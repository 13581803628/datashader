{
 "cells": [
  {
   "cell_type": "markdown",
   "metadata": {},
   "source": [
    "Solar Anywhere"
   ]
  },
  {
   "cell_type": "code",
   "execution_count": null,
   "metadata": {},
   "outputs": [],
   "source": [
    "from collections import OrderedDict\n",
    "import glob\n",
    "import os\n",
    "import re\n",
    "import sys\n",
    "\n",
    "from bokeh.models import WMTSTileSource\n",
    "from cartopy import crs as ccrs\n",
    "from collections import defaultdict\n",
    "from dask.distributed import Client\n",
    "from holoviews.operation import decimate\n",
    "from holoviews.operation.datashader import aggregate, shade, datashade, dynspread\n",
    "from pyproj import Proj, transform\n",
    "import dask\n",
    "import dask.dataframe as dd\n",
    "import datashader as ds\n",
    "import datashader.transfer_functions as tf\n",
    "import geoviews as gv\n",
    "import holoviews as hv\n",
    "import numpy as np\n",
    "import pandas as pd\n",
    "import rasterio as rio\n",
    "import xarray as xr\n",
    "import numpy as np\n",
    "import holoviews as hv\n",
    "import datashader as ds\n",
    "\n",
    "hv.notebook_extension('bokeh')\n",
    "decimate.max_samples=1000\n",
    "dynspread.max_px=20\n",
    "dynspread.threshold=0.5\n",
    "\n",
    "client = Client()"
   ]
  },
  {
   "cell_type": "code",
   "execution_count": null,
   "metadata": {},
   "outputs": [],
   "source": [
    "NUM_STATIONS = 4 # adjust to limit to subset of SOLAR_FILES"
   ]
  },
  {
   "cell_type": "code",
   "execution_count": null,
   "metadata": {},
   "outputs": [],
   "source": [
    "SOLAR_FNAME_PATTERN = os.path.join('data', '72*', '*solar.csv')\n",
    "SOLAR_FILES = glob.glob(SOLAR_FNAME_PATTERN)\n",
    "META_FILE = os.path.join('data', 'NSRDB_StationsMeta.csv')\n",
    "\n",
    "get_station_yr = lambda fname: tuple(map(int, os.path.basename(fname).split('_')[:2]))\n",
    "STATION_COMBOS = defaultdict(lambda: [])\n",
    "for fname in SOLAR_FILES:\n",
    "    k, v = get_station_yr(fname)\n",
    "    STATION_COMBOS[k].append([v, fname])\n",
    "STATION_COMBOS = {k: STATION_COMBOS[k] for k in tuple(STATION_COMBOS)[:NUM_STATIONS]}\n",
    "files_for_station = lambda station: [x[1] for x in STATION_COMBOS[station]]"
   ]
  },
  {
   "cell_type": "code",
   "execution_count": null,
   "metadata": {
    "collapsed": true
   },
   "outputs": [],
   "source": [
    "def clean_col_names(dframe):\n",
    "    cols = [re.sub('_$', '', re.sub('[/:\\(\\)_\\s^-]+', '_', col.replace('%', '_pcent_'))).lower()\n",
    "            for col in dframe.columns]\n",
    "    dframe.columns = cols\n",
    "    return dframe"
   ]
  },
  {
   "cell_type": "code",
   "execution_count": null,
   "metadata": {
    "collapsed": true
   },
   "outputs": [],
   "source": [
    "meta_df = clean_col_names(pd.read_csv(META_FILE, index_col='USAF'))"
   ]
  },
  {
   "cell_type": "code",
   "execution_count": null,
   "metadata": {},
   "outputs": [],
   "source": [
    "meta_df.loc[list(STATION_COMBOS)]"
   ]
  },
  {
   "cell_type": "code",
   "execution_count": null,
   "metadata": {
    "collapsed": true
   },
   "outputs": [],
   "source": [
    "@dask.delayed\n",
    "def read_one_fname(usaf_station, fname):\n",
    "    dframe = clean_col_names(pd.read_csv(fname))\n",
    "    station_data = meta_df.loc[usaf_station]\n",
    "    hour_offset = dframe.hh_mm_lst.map(lambda x:pd.Timedelta(hours=int(x.split(':')[0])))\n",
    "    keep_cols = ['date', 'y', 'x', 'julian_hr', 'year', 'usaf']\n",
    "    keep_cols += [col for col in dframe.columns\n",
    "                  if ('metstat' in col or 'suny' in col or col in keep_cols)\n",
    "                  and 'flg' not in col]\n",
    "    dframe['date'] = pd.to_datetime(dframe.yyyy_mm_dd) + hour_offset\n",
    "    dframe['usaf'] = usaf_station\n",
    "    dframe['y'], dframe['x'] = station_data.nsrdb_lat_dd, station_data.nsrdb_lon_dd \n",
    "    dframe['julian_hr'] = dframe.date.dt.hour + (dframe.date.dt.dayofyear - 1) * 24\n",
    "    dframe['year'] = dframe.date.dt.year\n",
    "    dframe[dframe <= -999] = np.NaN\n",
    "    return dframe.loc[:, keep_cols]\n",
    "\n",
    "def read_one_station(station):\n",
    "    files = files_for_station(station)\n",
    "    return dd.from_delayed([read_one_fname(station, fname) for fname in files]).compute()"
   ]
  },
  {
   "cell_type": "code",
   "execution_count": null,
   "metadata": {
    "scrolled": false
   },
   "outputs": [],
   "source": [
    "example_usaf = tuple(STATION_COMBOS)[0]\n",
    "df = read_one_station(example_usaf)"
   ]
  },
  {
   "cell_type": "code",
   "execution_count": null,
   "metadata": {},
   "outputs": [],
   "source": [
    "df.head()"
   ]
  },
  {
   "cell_type": "code",
   "execution_count": null,
   "metadata": {},
   "outputs": [],
   "source": [
    "df.date.describe()"
   ]
  },
  {
   "cell_type": "code",
   "execution_count": null,
   "metadata": {
    "scrolled": false
   },
   "outputs": [],
   "source": [
    "def get_station_quantiles(station=None, grouper='julian_hr', usaf_data=None):\n",
    "    if usaf_data is None:\n",
    "        usaf_data = read_one_station(station).groupby(grouper)\n",
    "    low = usaf_data.quantile(0.25)\n",
    "    median = usaf_data.median()\n",
    "    hi = usaf_data.quantile(0.75)\n",
    "    median[grouper] = median.index.values\n",
    "    median['usaf'] = station\n",
    "    summary_df = median.join(low, \n",
    "                             rsuffix='_low').join(hi, rsuffix='_hi')\n",
    "    return summary_df"
   ]
  },
  {
   "cell_type": "code",
   "execution_count": null,
   "metadata": {},
   "outputs": [],
   "source": [
    "julian_summary = get_station_quantiles(station=example_usaf)\n",
    "julian_summary.head()"
   ]
  },
  {
   "cell_type": "code",
   "execution_count": null,
   "metadata": {},
   "outputs": [],
   "source": [
    "direct, dif_h, glo_h = ('Direct Normal', \n",
    "                        'Diffuse Horizontal', \n",
    "                        'Global Horizontal',)\n",
    "labels = []\n",
    "watt_hrs_m2_cols = [col for col in df.columns if 'wh_m_2' in col and not 'suny' in col]\n",
    "for col in watt_hrs_m2_cols:\n",
    "    word1 = \"Clear Sky \" if 'csky' in col else \"Measured\"\n",
    "    word2 = direct if '_dir_' in col else dif_h if '_dif_' else glo_h\n",
    "    labels.append('{} - {}'.format(word1, word2))\n",
    "watt_hrs_m2_cols, labels"
   ]
  },
  {
   "cell_type": "code",
   "execution_count": null,
   "metadata": {},
   "outputs": [],
   "source": [
    "def plot_gen():\n",
    "    curves = {}\n",
    "    kw = dict(style=dict(s=2,alpha=0.5))\n",
    "    for col, label in zip(watt_hrs_m2_cols, labels):\n",
    "        dates = pd.DatetimeIndex(start=pd.Timestamp('2001-01-01'),\n",
    "                                 freq='H', \n",
    "                                 periods=julian_summary.shape[0])\n",
    "        median_col = julian_summary[col]\n",
    "        low_col = julian_summary[col + '_low']\n",
    "        hi_col = julian_summary[col + '_hi']\n",
    "        hi = hv.Curve((dates, hi_col), label=label + ' (75%)')(**kw)\n",
    "        low = hv.Curve((dates, low_col),label=label + ' (25%)')(**kw)\n",
    "        median = hv.Curve((dates, median_col), label=label)(**kw)\n",
    "        curves[tuple(col.replace('metstat_', '').replace('_wh_m_2', '').split('_'))] = low * median * hi\n",
    "    return curves"
   ]
  },
  {
   "cell_type": "code",
   "execution_count": null,
   "metadata": {},
   "outputs": [],
   "source": [
    "plots = plot_gen()"
   ]
  },
  {
   "cell_type": "code",
   "execution_count": null,
   "metadata": {},
   "outputs": [],
   "source": [
    "list(plots)"
   ]
  },
  {
   "cell_type": "code",
   "execution_count": null,
   "metadata": {
    "scrolled": false
   },
   "outputs": [],
   "source": [
    "%%opts Curve [width=700 height=500]\n",
    "%%opts Layout [sublabel_format=\"\" tight=True]\n",
    "plots[('csky', 'dir')]"
   ]
  },
  {
   "cell_type": "code",
   "execution_count": null,
   "metadata": {},
   "outputs": [],
   "source": [
    "%%opts Curve [width=700 height=500]\n",
    "%%opts Layout [sublabel_format=\"\" tight=True]\n",
    "plots[('dir',)]"
   ]
  },
  {
   "cell_type": "code",
   "execution_count": null,
   "metadata": {
    "scrolled": false
   },
   "outputs": [],
   "source": [
    "%%opts Curve [width=700 height=500]\n",
    "%%opts Layout [sublabel_format=\"\" tight=True]\n",
    "plots[('dif',)] + plots[('csky', 'dif',)]"
   ]
  }
 ],
 "metadata": {
  "kernelspec": {
   "display_name": "Python 3",
   "language": "python",
   "name": "python3"
  }
 },
 "nbformat": 4,
 "nbformat_minor": 2
}
