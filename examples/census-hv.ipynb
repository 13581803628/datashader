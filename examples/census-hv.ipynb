{
 "cells": [
  {
   "cell_type": "markdown",
   "metadata": {},
   "source": [
    "## Datashading 2010 US Census data with HoloViews/GeoViews\n",
    "\n",
    "The regular census.ipynb notebook from the [datashader](https://github.com/bokeh/datashader) library shows a variety of analyses of the 2010 Census data on population and race.  Here we show how the latest 1.7 release of HoloViews (due in mid-April, 2017) will allow a much simpler syntax for instantiating interactive datashader plots, including support for layouts, overlays, etc.\n",
    "\n",
    "### Set up and load data"
   ]
  },
  {
   "cell_type": "code",
   "execution_count": null,
   "metadata": {},
   "outputs": [],
   "source": [
    "import pandas as pd\n",
    "import holoviews as hv\n",
    "import geoviews as gv\n",
    "import datashader as ds\n",
    "\n",
    "from bokeh.models import WMTSTileSource\n",
    "from holoviews.operation.datashader import datashade, dynspread\n",
    "hv.notebook_extension('bokeh')\n",
    "\n",
    "import dask.dataframe as dd\n",
    "from dask.cache import Cache\n",
    "Cache(9e9).register()\n",
    "\n",
    "df = dd.io.parquet.read_parquet('data/census.snappy.parq', index=False, categories=['race'])\n",
    "%time df=df.persist()\n",
    "df.tail()"
   ]
  },
  {
   "cell_type": "markdown",
   "metadata": {},
   "source": [
    "### Interactive plot of population density with race as colors, overlaid on a geographic map\n",
    "\n",
    "This 300-million-point dataset is far too large to visualize in a browser directly as Points, but it's simple to wrap it in a `datashade` operation that aggregates the data into an Image before passing it to the browser."
   ]
  },
  {
   "cell_type": "code",
   "execution_count": null,
   "metadata": {},
   "outputs": [],
   "source": [
    "%%opts Overlay [width=900 height=525 xaxis=None yaxis=None]\n",
    "\n",
    "geomap = gv.WMTS(WMTSTileSource(url=\\\n",
    "   'https://server.arcgisonline.com/ArcGIS/rest/services/World_Imagery/MapServer/tile/{Z}/{Y}/{X}.jpg'))\n",
    "\n",
    "points = hv.Points(gv.Dataset(df, kdims=['easting', 'northing'], vdims=['race']))\n",
    "color_key = {'w':'aqua', 'b':'lime',  'a':'red', 'h':'fuchsia', 'o':'yellow' }\n",
    "race = datashade(points, x_sampling=50, y_sampling=50, cmap=color_key,\n",
    "                 element_type=gv.Image, aggregator=ds.count_cat('race'))\n",
    "geomap * race"
   ]
  }
 ],
 "metadata": {
  "anaconda-cloud": {},
  "kernelspec": {
   "display_name": "Python 3",
   "language": "python",
   "name": "python3"
  },
  "language_info": {
   "codemirror_mode": {
    "name": "ipython",
    "version": 3
   },
   "file_extension": ".py",
   "mimetype": "text/x-python",
   "name": "python",
   "nbconvert_exporter": "python",
   "pygments_lexer": "ipython3",
   "version": "3.6.1"
  }
 },
 "nbformat": 4,
 "nbformat_minor": 1
}
