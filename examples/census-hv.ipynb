{
 "cells": [
  {
   "cell_type": "markdown",
   "metadata": {},
   "source": [
    "## 2010 US Census data in HoloViews/GeoViews\n",
    "\n",
    "The regular census.ipynb notebook from the [datashader](https://github.com/bokeh/datashader) library shows a variety of analyses of the 2010 Census data on population and race.  Here we show how the latest 1.7 release of HoloViews (due in November or December 2016) will allow a much simpler syntax for instantiating interactive plots, including support for layouts, overlays, etc.\n",
    "\n",
    "### Load data and set up"
   ]
  },
  {
   "cell_type": "code",
   "execution_count": null,
   "metadata": {
    "collapsed": false
   },
   "outputs": [],
   "source": [
    "import pandas as pd\n",
    "import holoviews as hv\n",
    "import geoviews as gv\n",
    "import datashader as ds\n",
    "from bokeh.models import WMTSTileSource\n",
    "from holoviews.operation.datashader import datashade\n",
    "hv.notebook_extension('bokeh')\n",
    "\n",
    "%opts Overlay [width=900 height=525 xaxis=None yaxis=None] WMTS (alpha=0.5)"
   ]
  },
  {
   "cell_type": "code",
   "execution_count": null,
   "metadata": {
    "collapsed": false
   },
   "outputs": [],
   "source": [
    "df = pd.read_hdf('data/census.h5', 'census')\n",
    "dataset = gv.Dataset(df, kdims=['meterswest', 'metersnorth'], vdims=['race'])\n",
    "\n",
    "color_key = {'w':'blue', 'b':'green', 'a':'red', 'h':'orange', 'o':'saddlebrown'}\n",
    "\n",
    "tiles = gv.WMTS(WMTSTileSource(url=\\\n",
    " 'https://server.arcgisonline.com/ArcGIS/rest/services/World_Imagery/MapServer/tile/{Z}/{Y}/{X}.jpg'))\n",
    "\n",
    "race = datashade(dataset, x_sampling=10, y_sampling=10, cmap=color_key,\n",
    "                 element_type=gv.Image, aggregator=ds.count_cat('race'))\n",
    "\n",
    "tiles * race"
   ]
  }
 ],
 "metadata": {
  "anaconda-cloud": {},
  "kernelspec": {
   "display_name": "Python [default]",
   "language": "python",
   "name": "python2"
  },
  "language_info": {
   "codemirror_mode": {
    "name": "ipython",
    "version": 2
   },
   "file_extension": ".py",
   "mimetype": "text/x-python",
   "name": "python",
   "nbconvert_exporter": "python",
   "pygments_lexer": "ipython2",
   "version": "2.7.11"
  }
 },
 "nbformat": 4,
 "nbformat_minor": 0
}
