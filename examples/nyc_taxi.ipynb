{
 "cells": [
  {
   "cell_type": "code",
   "execution_count": null,
   "metadata": {
    "collapsed": false
   },
   "outputs": [],
   "source": [
    "import datashader as ds\n",
    "import datashader.transfer_functions as tf\n",
    "\n",
    "import pandas as pd\n",
    "\n",
    "from bokeh.plotting import figure, output_notebook, show\n",
    "from bokeh.models import ColumnDataSource, CustomJS, Range1d\n",
    "from bokeh.io import push_notebook\n",
    "from bokeh.tile_providers import STAMEN_TONER\n",
    "\n",
    "output_notebook()"
   ]
  },
  {
   "cell_type": "markdown",
   "metadata": {},
   "source": [
    "## Load NYC Taxi data (takes a dozen seconds or so...)"
   ]
  },
  {
   "cell_type": "code",
   "execution_count": null,
   "metadata": {
    "collapsed": false
   },
   "outputs": [],
   "source": [
    "df = pd.read_csv('data/nyc_taxi.csv',usecols=['pickup_x','pickup_y','dropoff_x','dropoff_y','passenger_count'])\n",
    "x_range = (-8240227.037,-8231283.905)\n",
    "y_range = (4974203,4979238)\n",
    "df.tail()"
   ]
  },
  {
   "cell_type": "markdown",
   "metadata": {},
   "source": [
    "## Define a simple plot"
   ]
  },
  {
   "cell_type": "code",
   "execution_count": null,
   "metadata": {
    "collapsed": false
   },
   "outputs": [],
   "source": [
    "def base_plot():\n",
    "    p = figure(tools='pan,wheel_zoom,box_zoom', plot_width=800, plot_height=500, x_range=x_range, y_range=y_range)\n",
    "    p.add_tile(STAMEN_TONER)\n",
    "    p.axis.visible = False\n",
    "    return p\n",
    "    \n",
    "options = dict(line_color='black', fill_color='red')"
   ]
  },
  {
   "cell_type": "markdown",
   "metadata": {},
   "source": [
    "## A few points are fine"
   ]
  },
  {
   "cell_type": "code",
   "execution_count": null,
   "metadata": {
    "collapsed": false
   },
   "outputs": [],
   "source": [
    "samples = df.sample(n=1000)\n",
    "p = base_plot()\n",
    "p.circle(x=samples['pickup_x'], y=samples['pickup_y'], **options)\n",
    "show(p)"
   ]
  },
  {
   "cell_type": "markdown",
   "metadata": {},
   "source": [
    "## When plotting more than a couple thousand points, the study area is saturated."
   ]
  },
  {
   "cell_type": "code",
   "execution_count": null,
   "metadata": {
    "collapsed": false
   },
   "outputs": [],
   "source": [
    "samples = df.sample(n=10000)\n",
    "p = base_plot()\n",
    "p.circle(x=samples['pickup_x'], y=samples['pickup_y'], **options)\n",
    "show(p)"
   ]
  },
  {
   "cell_type": "markdown",
   "metadata": {
    "collapsed": false
   },
   "source": [
    "## Using datashader, you can easily aggregate points and conquer over-saturation"
   ]
  },
  {
   "cell_type": "code",
   "execution_count": null,
   "metadata": {
    "collapsed": false
   },
   "outputs": [],
   "source": [
    "from datashader.callbacks import IPythonKernelCallback\n",
    "\n",
    "def create_image(ranges, agg_fn=ds.count):\n",
    "    x_range, y_range = ranges['x_range'], ranges['y_range']\n",
    "    h, w = ranges['h'], ranges['w']\n",
    "    cvs = ds.Canvas(plot_width=w, plot_height=h, x_range=x_range, y_range=y_range)\n",
    "    agg = cvs.points(df, 'pickup_x', 'pickup_y', agg_fn('passenger_count'))\n",
    "    pix = tf.interpolate(agg, (255, 204, 204), 'red', how='log')\n",
    "    dh = y_range[1] - y_range[0]\n",
    "    dw = x_range[1] - x_range[0]\n",
    "    p.image_rgba(image=[pix.img], x=x_range[0], y=y_range[0], dw=dw, dh=dh, dilate=False)\n",
    "\n",
    "p = base_plot()\n",
    "dsplot = IPythonKernelCallback(p, create_image, throttle=500, agg_fn=ds.count)\n",
    "create_image(dict(x_range=x_range, y_range=y_range, w=p.plot_width, h=p.plot_height))\n",
    "show(p)"
   ]
  }
 ],
 "metadata": {
  "kernelspec": {
   "display_name": "Python 2",
   "language": "python",
   "name": "python2"
  },
  "language_info": {
   "codemirror_mode": {
    "name": "ipython",
    "version": 2
   },
   "file_extension": ".py",
   "mimetype": "text/x-python",
   "name": "python",
   "nbconvert_exporter": "python",
   "pygments_lexer": "ipython2",
   "version": "2.7.11"
  }
 },
 "nbformat": 4,
 "nbformat_minor": 0
}
