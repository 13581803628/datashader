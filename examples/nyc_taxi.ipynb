{
 "cells": [
  {
   "cell_type": "markdown",
   "metadata": {},
   "source": [
    "# Plotting very large datasets\n",
    "\n",
    "There are a variety of approaches for plotting large datasets, but most of them are very unsatisfactory. Here we first show some of the issues, then demonstrate how the Datashader library helps make large datasets practical."
   ]
  },
  {
   "cell_type": "code",
   "execution_count": null,
   "metadata": {
    "collapsed": false
   },
   "outputs": [],
   "source": [
    "import pandas as pd\n",
    "\n",
    "from bokeh.plotting import figure, output_notebook, show\n",
    "from bokeh.models import ColumnDataSource, CustomJS, Range1d\n",
    "from bokeh.io import push_notebook\n",
    "from bokeh.tile_providers import STAMEN_TONER\n",
    "\n",
    "output_notebook()"
   ]
  },
  {
   "cell_type": "markdown",
   "metadata": {},
   "source": [
    "## Load NYC Taxi data (takes a dozen seconds or so...)"
   ]
  },
  {
   "cell_type": "code",
   "execution_count": null,
   "metadata": {
    "collapsed": false,
    "scrolled": true
   },
   "outputs": [],
   "source": [
    "df = pd.read_csv('data/nyc_taxi.csv',usecols=['pickup_x','pickup_y','dropoff_x','dropoff_y','passenger_count'])\n",
    "x_range = (-8248522,-8223309)\n",
    "y_range = (4968665,4982860)\n",
    "df.tail()"
   ]
  },
  {
   "cell_type": "markdown",
   "metadata": {},
   "source": [
    "## Define a simple plot"
   ]
  },
  {
   "cell_type": "code",
   "execution_count": null,
   "metadata": {
    "collapsed": false
   },
   "outputs": [],
   "source": [
    "def base_plot():\n",
    "    p = figure(tools='pan,wheel_zoom,box_zoom', plot_width=800, plot_height=500, x_range=x_range, y_range=y_range)\n",
    "    #p.add_tile(STAMEN_TONER)\n",
    "    p.axis.visible = False\n",
    "    p.xgrid.grid_line_color = None\n",
    "    p.ygrid.grid_line_color = None\n",
    "    return p\n",
    "    \n",
    "options = dict(line_color='black', fill_color='red')"
   ]
  },
  {
   "cell_type": "markdown",
   "metadata": {},
   "source": [
    "## A few points are fine using a Bokeh scatterplot"
   ]
  },
  {
   "cell_type": "code",
   "execution_count": null,
   "metadata": {
    "collapsed": false
   },
   "outputs": [],
   "source": [
    "samples = df.sample(n=1000)\n",
    "p = base_plot()\n",
    "p.circle(x=samples['dropoff_x'], y=samples['dropoff_y'], **options)\n",
    "show(p)"
   ]
  },
  {
   "cell_type": "markdown",
   "metadata": {},
   "source": [
    "## When plotting more than a couple thousand points, the study area is saturated."
   ]
  },
  {
   "cell_type": "code",
   "execution_count": null,
   "metadata": {
    "collapsed": false
   },
   "outputs": [],
   "source": [
    "samples = df.sample(n=10000)\n",
    "p = base_plot()\n",
    "p.circle(x=samples['dropoff_x'], y=samples['dropoff_y'], **options)\n",
    "show(p)"
   ]
  },
  {
   "cell_type": "markdown",
   "metadata": {},
   "source": [
    "## Making the points tiny and partially transparent helps a bit\n",
    "  \n",
    "However, it is tricky to set the size and alpha parameters.  The correct value of both depends on zoom level and number of points; at higher zooms you need larger sizes and higher alpha values, which requires editing the code each time.\n",
    "\n",
    "Plotting also starts getting very slow for > 10000 points.  With some browsers you can use Bokeh's WebGL support to render additional points relatively quickly, but there will always be a limit on the number of points that will work well in a web browser."
   ]
  },
  {
   "cell_type": "code",
   "execution_count": null,
   "metadata": {
    "collapsed": false
   },
   "outputs": [],
   "source": [
    "options = dict(line_color='red', fill_color='red', size=1, alpha=0.2)\n",
    "samples = df.sample(n=100000)\n",
    "p = base_plot()\n",
    "p.circle(x=samples['dropoff_x'], y=samples['dropoff_y'], **options)\n",
    "show(p)"
   ]
  },
  {
   "cell_type": "markdown",
   "metadata": {
    "collapsed": false
   },
   "source": [
    "## Using datashader, you can easily aggregate points and conquer over-saturation\n",
    "\n",
    "Datashader renders the entire dataset into a buffer in a separate Python process, always providing a fixed-size image to the browser.  The number of points is no longer a limiting factor, so you can use the entire dataset, and there is no need to set the alpha parameter.  This way you can zoom very far in interactively, seeing all the points available in that viewport, without ever needing to change the plot parameters.  Each time you zoom or pan, a new image is rendered (which takes a few seconds for large datasets), and displayed overlaid the other plot elements, providing full access to all of your data."
   ]
  },
  {
   "cell_type": "code",
   "execution_count": null,
   "metadata": {
    "collapsed": false,
    "scrolled": false
   },
   "outputs": [],
   "source": [
    "import datashader as ds\n",
    "from datashader.callbacks import IPythonKernelCallback\n",
    "\n",
    "p = base_plot()\n",
    "pipeline = ds.Pipeline(df=df, glyph=ds.Point(\"dropoff_x\", \"dropoff_y\"), agg=ds.count(\"passenger_count\"))\n",
    "IPythonKernelCallback(p, pipeline)"
   ]
  },
  {
   "cell_type": "markdown",
   "metadata": {
    "collapsed": true
   },
   "source": [
    "## Unpacking the steps involved in the Datashader pipeline\n",
    "\n",
    "The above functions use a configurable interface to make it simpler to specify individual bits of a standard scatterplot-like pipeline. If you want, you can do the same process with your own custom code to do whatever you like.  The supplied pipeline object just generates an image, given a specified viewport:"
   ]
  },
  {
   "cell_type": "code",
   "execution_count": null,
   "metadata": {
    "collapsed": false,
    "scrolled": false
   },
   "outputs": [],
   "source": [
    "p = base_plot()\n",
    "pipeline = ds.Pipeline(df=df, glyph=ds.Point(\"dropoff_x\", \"dropoff_y\"), agg=ds.count(\"passenger_count\"),\n",
    "                       color_fn=ds.Interpolate(low=\"lightblue\",high=\"blue\"))\n",
    "pipeline(x_range, y_range, 800, 500)"
   ]
  },
  {
   "cell_type": "markdown",
   "metadata": {},
   "source": [
    "So you can simply substitute any function that will create an image, when given x and y ranges, a resolution (w x h), and zero or more optional arguments.  For instance, here's what the Pipeline object does, more or less:"
   ]
  },
  {
   "cell_type": "code",
   "execution_count": null,
   "metadata": {
    "collapsed": false,
    "scrolled": false
   },
   "outputs": [],
   "source": [
    "import datashader as ds\n",
    "from datashader.callbacks import IPythonKernelCallback\n",
    "from datashader import transfer_functions as tf\n",
    "\n",
    "def create_image(x_range, y_range, w, h, how='log'):\n",
    "    cvs = ds.Canvas(plot_width=w, plot_height=h, x_range=x_range, y_range=y_range)\n",
    "    agg = cvs.points(df, 'dropoff_x', 'dropoff_y', ds.count('passenger_count'))\n",
    "    image = tf.interpolate(agg, \"lightpink\", 'red', how=how)\n",
    "    return image\n",
    "\n",
    "p = base_plot()\n",
    "IPythonKernelCallback(p, create_image, how='linear')"
   ]
  }
 ],
 "metadata": {
  "kernelspec": {
   "display_name": "Python 2",
   "language": "python",
   "name": "python2"
  },
  "language_info": {
   "codemirror_mode": {
    "name": "ipython",
    "version": 2
   },
   "file_extension": ".py",
   "mimetype": "text/x-python",
   "name": "python",
   "nbconvert_exporter": "python",
   "pygments_lexer": "ipython2",
   "version": "2.7.11"
  }
 },
 "nbformat": 4,
 "nbformat_minor": 0
}
