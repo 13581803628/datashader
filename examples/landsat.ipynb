{
 "cells": [
  {
   "cell_type": "markdown",
   "metadata": {},
   "source": [
    "# Datashader: Custom Transfer Functions for LandSat8"
   ]
  },
  {
   "cell_type": "markdown",
   "metadata": {},
   "source": [
    "### Setup\n",
    "The following imports will be needed to complete the exercises or provide for an improved notebook display:"
   ]
  },
  {
   "cell_type": "code",
   "execution_count": null,
   "metadata": {
    "collapsed": false
   },
   "outputs": [],
   "source": [
    "from os import path\n",
    "\n",
    "import numpy as np\n",
    "import rasterio as rio\n",
    "\n",
    "from bokeh.models import Range1d\n",
    "from bokeh.plotting import Figure\n",
    "from bokeh.io import output_notebook, show\n",
    "\n",
    "from datashader.bokeh_ext import InteractiveImage\n",
    "import datashader as ds\n",
    "import datashader.transfer_functions as tf\n",
    "\n",
    "from bokeh.tile_providers import STAMEN_TONER\n",
    "\n",
    "output_notebook()"
   ]
  },
  {
   "cell_type": "markdown",
   "metadata": {},
   "source": [
    "### Load Landsat Data \n",
    "\n",
    "Bands\tWavelength\n",
    "(micrometers)\tResolution\n",
    "(meters)\n",
    "- Band 1 - Coastal aerosol\t0.43 - 0.45\t30\n",
    "- Band 2 - Blue\t0.45 - 0.51\t30\n",
    "- Band 3 - Green\t0.53 - 0.59\t30\n",
    "- Band 4 - Red\t0.64 - 0.67\t30\n",
    "- Band 5 - Near Infrared (NIR)\t0.85 - 0.88\t30\n",
    "- Band 6 - SWIR 1\t1.57 - 1.65\t30\n",
    "- Band 7 - SWIR 2\t2.11 - 2.29\t30\n",
    "- Band 8 - Panchromatic\t0.50 - 0.68\t15\n",
    "- Band 9 - Cirrus\t1.36 - 1.38\t30\n",
    "- Band 10 - Thermal Infrared (TIRS) 1\t10.60 - 11.19\t100 * (30)\n",
    "- Band 11 - Thermal Infrared (TIRS) 2\t11.50 - 12.51\t100 * (30)"
   ]
  },
  {
   "cell_type": "code",
   "execution_count": null,
   "metadata": {
    "collapsed": false
   },
   "outputs": [],
   "source": [
    "data_dir = './data'\n",
    "\n",
    "band1 = rio.open(path.join(data_dir, 'MERCATOR_LC80210392016114LGN00_B1.TIF'))\n",
    "band2 = rio.open(path.join(data_dir, 'MERCATOR_LC80210392016114LGN00_B2.TIF'))\n",
    "band3 = rio.open(path.join(data_dir, 'MERCATOR_LC80210392016114LGN00_B3.TIF'))\n",
    "band4 = rio.open(path.join(data_dir, 'MERCATOR_LC80210392016114LGN00_B4.TIF'))\n",
    "band5 = rio.open(path.join(data_dir, 'MERCATOR_LC80210392016114LGN00_B5.TIF'))\n",
    "band6 = rio.open(path.join(data_dir, 'MERCATOR_LC80210392016114LGN00_B6.TIF'))\n",
    "band7 = rio.open(path.join(data_dir, 'MERCATOR_LC80210392016114LGN00_B7.TIF'))\n",
    "band8 = rio.open(path.join(data_dir, 'MERCATOR_LC80210392016114LGN00_B8.TIF'))\n",
    "band9 = rio.open(path.join(data_dir, 'MERCATOR_LC80210392016114LGN00_B9.TIF'))\n",
    "band10 = rio.open(path.join(data_dir, 'MERCATOR_LC80210392016114LGN00_B10.TIF'))\n",
    "band11 = rio.open(path.join(data_dir, 'MERCATOR_LC80210392016114LGN00_B11.TIF'))\n",
    "band12 = rio.open(path.join(data_dir, 'MERCATOR_LC80210392016114LGN00_BQA.TIF'))\n",
    "\n",
    "# Notice the MERCATOR prefix which indicates the data was project to Mercator CRS\n",
    "\n",
    "xmin = band1.bounds.left\n",
    "ymin = band1.bounds.bottom\n",
    "xmax = band1.bounds.right\n",
    "ymax = band1.bounds.top"
   ]
  },
  {
   "cell_type": "markdown",
   "metadata": {},
   "source": [
    "## Datashader Transfer Functions"
   ]
  },
  {
   "cell_type": "code",
   "execution_count": null,
   "metadata": {
    "collapsed": true
   },
   "outputs": [],
   "source": [
    "def base_plot(tools='pan,wheel_zoom,reset',plot_width=900, plot_height=500, x_range=None, y_range=None, **plot_args):\n",
    "    p = Figure(tools=tools, plot_width=plot_width, plot_height=plot_height,\n",
    "        x_range=x_range, y_range=y_range, outline_line_color=None,\n",
    "        background_fill_color='black',\n",
    "        min_border=0, min_border_left=0, min_border_right=0,\n",
    "        min_border_top=0, min_border_bottom=0, **plot_args)\n",
    "    \n",
    "    p.add_tile(STAMEN_TONER)\n",
    "    \n",
    "    p.axis.visible = False\n",
    "    p.xgrid.grid_line_color = None\n",
    "    p.ygrid.grid_line_color = None\n",
    "    return p"
   ]
  },
  {
   "cell_type": "markdown",
   "metadata": {},
   "source": [
    "### Just the Blue Band"
   ]
  },
  {
   "cell_type": "code",
   "execution_count": null,
   "metadata": {
    "collapsed": false
   },
   "outputs": [],
   "source": [
    "def update_image(x_range, y_range, w, h, how='log'):\n",
    "    cvs = ds.Canvas(plot_width=w, plot_height=h, x_range=x_range, y_range=y_range)\n",
    "    blue_img = tf.interpolate(cvs.raster(band2),\n",
    "                              cmap=['black','white'],\n",
    "                              how='linear')\n",
    "    return blue_img\n",
    "\n",
    "p = base_plot(x_range=(xmin, xmax), y_range=(ymin, ymax))\n",
    "InteractiveImage(p, update_image)"
   ]
  },
  {
   "cell_type": "code",
   "execution_count": null,
   "metadata": {
    "collapsed": false
   },
   "outputs": [],
   "source": [
    "from xarray import DataArray\n",
    "from datashader.utils import ngjit\n",
    "\n",
    "@ngjit\n",
    "def normalize_data(agg):\n",
    "    out = np.zeros_like(agg)\n",
    "    min_val = 0\n",
    "    max_val = 2**16 - 1\n",
    "    range_val = max_val - min_val\n",
    "    col, rows = agg.shape\n",
    "    c = 40\n",
    "    th = .125\n",
    "    for x in range(col):\n",
    "        for y in range(rows):\n",
    "            val = agg[x, y]\n",
    "            norm = (val - min_val) / range_val\n",
    "            norm = 1 / (1 + np.exp(c * (th - norm))) # bonus\n",
    "            out[x, y] = norm * 255.0\n",
    "    return out"
   ]
  },
  {
   "cell_type": "code",
   "execution_count": null,
   "metadata": {
    "collapsed": false
   },
   "outputs": [],
   "source": [
    "def combine_bands(r, g, b):\n",
    "    r = (normalize_data(r)).astype(np.uint8)\n",
    "    g = (normalize_data(g)).astype(np.uint8)\n",
    "    b = (normalize_data(b)).astype(np.uint8)\n",
    "    col, rows = r.shape\n",
    "    a = (np.zeros_like(r) + 255).astype(np.uint8)\n",
    "    img = np.dstack([r, g, b, a]).view(np.uint32).reshape(r.shape)\n",
    "    return tf.Image(data=img)"
   ]
  },
  {
   "cell_type": "markdown",
   "metadata": {},
   "source": [
    "### True Color (Red=Red, Green=Green, Blue=Blue)"
   ]
  },
  {
   "cell_type": "code",
   "execution_count": null,
   "metadata": {
    "collapsed": false
   },
   "outputs": [],
   "source": [
    "def true_color(x_range, y_range, w, h):\n",
    "    cvs = ds.Canvas(plot_width=w, plot_height=h, x_range=x_range, y_range=y_range)\n",
    "    r, g, b = [cvs.raster(b).data for b in (band4, band3, band2)]\n",
    "    return combine_bands(r, g, b)\n",
    "\n",
    "p = base_plot(x_range=(xmin, xmax), y_range=(ymin, ymax))\n",
    "InteractiveImage(p, true_color)"
   ]
  },
  {
   "cell_type": "markdown",
   "metadata": {},
   "source": [
    "### Color Infrared (Vegetation) (Red=Near Infrared, Green=Red, Blue=Green)"
   ]
  },
  {
   "cell_type": "code",
   "execution_count": null,
   "metadata": {
    "collapsed": false
   },
   "outputs": [],
   "source": [
    "def color_infrared(x_range, y_range, w, h):\n",
    "    cvs = ds.Canvas(plot_width=w, plot_height=h, x_range=x_range, y_range=y_range)\n",
    "    r, g, b = [cvs.raster(b).data for b in (band5, band4, band3)]\n",
    "    return combine_bands(r, g, b)\n",
    "\n",
    "p = base_plot(x_range=(xmin, xmax), y_range=(ymin, ymax))\n",
    "InteractiveImage(p, color_infrared)"
   ]
  },
  {
   "cell_type": "markdown",
   "metadata": {},
   "source": [
    "### False Color (Urban) (Red=SWIR 2, Green=SWIR 1, Blue=Red)"
   ]
  },
  {
   "cell_type": "code",
   "execution_count": null,
   "metadata": {
    "collapsed": false
   },
   "outputs": [],
   "source": [
    "def false_color_urban(x_range, y_range, w, h):\n",
    "    cvs = ds.Canvas(plot_width=w, plot_height=h, x_range=x_range, y_range=y_range)\n",
    "    r, g, b = [cvs.raster(b).data for b in (band7, band6, band4)]\n",
    "    return combine_bands(r, g, b)\n",
    "\n",
    "p = base_plot(x_range=(xmin, xmax), y_range=(ymin, ymax))\n",
    "InteractiveImage(p, false_color_urban)"
   ]
  },
  {
   "cell_type": "markdown",
   "metadata": {},
   "source": [
    "### False Color 2 (Red=Near Infrared, Green=SWIR 1, Blue=Coastal)"
   ]
  },
  {
   "cell_type": "code",
   "execution_count": null,
   "metadata": {
    "collapsed": false
   },
   "outputs": [],
   "source": [
    "def false_color_veg(x_range, y_range, w, h):\n",
    "    cvs = ds.Canvas(plot_width=w, plot_height=h, x_range=x_range, y_range=y_range)\n",
    "    r, g, b = [cvs.raster(b).data for b in (band5, band7, band1)]\n",
    "    return combine_bands(r, g, b)\n",
    "\n",
    "p = base_plot(x_range=(xmin, xmax), y_range=(ymin, ymax))\n",
    "InteractiveImage(p, false_color_veg)"
   ]
  },
  {
   "cell_type": "markdown",
   "metadata": {},
   "source": [
    "### Land vs. Water (Red=Near Infrared, Green=SWIR 1, Blue=Red)"
   ]
  },
  {
   "cell_type": "code",
   "execution_count": null,
   "metadata": {
    "collapsed": false
   },
   "outputs": [],
   "source": [
    "def land_vs_water(x_range, y_range, w, h):\n",
    "    cvs = ds.Canvas(plot_width=w, plot_height=h, x_range=x_range, y_range=y_range)\n",
    "    r, g, b = [cvs.raster(b).data for b in (band5, band6, band4)]\n",
    "    return combine_bands(r, g, b)\n",
    "\n",
    "p = base_plot(x_range=(xmin, xmax), y_range=(ymin, ymax))\n",
    "InteractiveImage(p, land_vs_water)"
   ]
  },
  {
   "cell_type": "markdown",
   "metadata": {
    "collapsed": true
   },
   "source": [
    "### Shortwave Infrared (Red=SWIR2, Green=Near Infrared, Blue=Red)"
   ]
  },
  {
   "cell_type": "code",
   "execution_count": null,
   "metadata": {
    "collapsed": false
   },
   "outputs": [],
   "source": [
    "def shortwave_infrared(x_range, y_range, w, h):\n",
    "    cvs = ds.Canvas(plot_width=w, plot_height=h, x_range=x_range, y_range=y_range)\n",
    "    r, g, b = [cvs.raster(b).data for b in (band7, band5, band4)]\n",
    "    return combine_bands(r, g, b)\n",
    "\n",
    "p = base_plot(x_range=(xmin, xmax), y_range=(ymin, ymax))\n",
    "InteractiveImage(p, shortwave_infrared)"
   ]
  },
  {
   "cell_type": "code",
   "execution_count": null,
   "metadata": {
    "collapsed": true
   },
   "outputs": [],
   "source": []
  }
 ],
 "metadata": {
  "kernelspec": {
   "display_name": "Python 2",
   "language": "python",
   "name": "python2"
  },
  "language_info": {
   "codemirror_mode": {
    "name": "ipython",
    "version": 2
   },
   "file_extension": ".py",
   "mimetype": "text/x-python",
   "name": "python",
   "nbconvert_exporter": "python",
   "pygments_lexer": "ipython2",
   "version": "2.7.11"
  }
 },
 "nbformat": 4,
 "nbformat_minor": 0
}
