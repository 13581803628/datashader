{
 "cells": [
  {
   "cell_type": "markdown",
   "metadata": {},
   "source": [
    "# Using paramnb widgets to control a datashader plot\n",
    "\n",
    "The InteractiveImage command provided with [datashader](https://github.com/bokeh/datashader) makes it simple to make an interactive plot of a very large dataset, but very often one will want to add additional interactive controls to filter your data, select columns for plotting, etc., which is not supported by InteractiveImage.  One way to do that is to use [ParamNB](https://anaconda.org/jbednar/paramnb) to instantiate some parameters and then have it run the subsequent cell whenever one of those parameters changes (via ``paramnb.Widgets(...,next_n=1)``).\n",
    "\n",
    "This notebook illustrates a cleaner way using a [HoloViews](http://holoviews.org) stream to connect the widgets and the plot. Requires ``conda install -c ioam/label/dev holoviews paramnb`` and installing [GeoViews](https://github.com/ioam/geoviews/blob/master/README.md#installation) (which is only important for the map tile support.\n",
    "\n",
    "## Setup"
   ]
  },
  {
   "cell_type": "code",
   "execution_count": null,
   "metadata": {
    "collapsed": false
   },
   "outputs": [],
   "source": [
    "import holoviews as hv\n",
    "import geoviews as gv\n",
    "import param, paramnb\n",
    "import pandas as pd\n",
    "\n",
    "from colorcet import cm\n",
    "from bokeh.models import WMTSTileSource\n",
    "from holoviews.operation.datashader import datashade\n",
    "from holoviews.streams import RangeXY\n",
    "\n",
    "hv.notebook_extension('bokeh')\n",
    "\n",
    "%time df = pd.read_csv('data/nyc_taxi.csv', usecols = ['passenger_count', \\\n",
    "                       'pickup_x', 'pickup_y', 'dropoff_x', 'dropoff_y'])\n",
    "df.tail()"
   ]
  },
  {
   "cell_type": "markdown",
   "metadata": {},
   "source": [
    "## Interactive plot"
   ]
  },
  {
   "cell_type": "code",
   "execution_count": null,
   "metadata": {
    "collapsed": false
   },
   "outputs": [],
   "source": [
    "%%opts Overlay [width=650 height=525 xaxis=None yaxis=None] WMTS (alpha=0.3)\n",
    "\n",
    "tiles = gv.WMTS(WMTSTileSource(url='https://server.arcgisonline.com/ArcGIS/rest/services/'\n",
    "                                   'World_Imagery/MapServer/tile/{Z}/{Y}/{X}.jpg'))\n",
    "\n",
    "passenger_counts = sorted(df.passenger_count.unique().tolist())\n",
    "\n",
    "class Options(hv.streams.Stream):\n",
    "    \n",
    "    colormap   = param.ObjectSelector(default=cm[\"fire\"], objects=cm.values())\n",
    "    plot       = param.ObjectSelector(default=\"pickup\",   objects=[\"pickup\",\"dropoff\"])\n",
    "    passengers = param.ObjectSelector(default=1,          objects=passenger_counts)\n",
    "    \n",
    "    def make_plot(self, x_range=None, y_range=None, **kwargs):\n",
    "        df_filt = df[df.passenger_count==self.passengers]\n",
    "\n",
    "        points = hv.Points(gv.Dataset(df_filt, kdims=[self.plot+'_x', self.plot+'_y'], vdims=[]))\n",
    "\n",
    "        datashaded = datashade(points, width=650, height=525, x_sampling=1, y_sampling=1, \n",
    "                               cmap=self.colormap, element_type=gv.Image,\n",
    "                               dynamic=False, x_range=x_range, y_range=y_range)\n",
    "        \n",
    "        title = \"NYC Taxi {}s with {} passenger(s)\".format(self.plot, self.passengers)\n",
    "        return datashaded.relabel(group=title)\n",
    "\n",
    "selector = Options(name=\"\")\n",
    "paramnb.Widgets(selector, callback=selector.update)\n",
    "tiles * hv.DynamicMap(selector.make_plot, kdims=[], streams=[selector, RangeXY()])"
   ]
  }
 ],
 "metadata": {
  "anaconda-cloud": {},
  "kernelspec": {
   "display_name": "Python [default]",
   "language": "python",
   "name": "python2"
  },
  "language_info": {
   "codemirror_mode": {
    "name": "ipython",
    "version": 2
   },
   "file_extension": ".py",
   "mimetype": "text/x-python",
   "name": "python",
   "nbconvert_exporter": "python",
   "pygments_lexer": "ipython2",
   "version": "2.7.11"
  }
 },
 "nbformat": 4,
 "nbformat_minor": 0
}
